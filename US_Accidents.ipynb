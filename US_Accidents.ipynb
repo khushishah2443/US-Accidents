{
 "cells": [
  {
   "cell_type": "code",
   "execution_count": 71,
   "metadata": {},
   "outputs": [],
   "source": [
    "import pandas as pd \n",
    "import numpy as np\n",
    "data_filename ='US_Accidents_Dec21_updated.csv'\n",
    "df=pd.read_csv(data_filename)"
   ]
  },
  {
   "cell_type": "code",
   "execution_count": 72,
   "metadata": {},
   "outputs": [
    {
     "data": {
      "text/plain": [
       "Index(['ID', 'Severity', 'Start_Time', 'End_Time', 'Start_Lat', 'Start_Lng',\n",
       "       'End_Lat', 'End_Lng', 'Distance(mi)', 'Description', 'Number', 'Street',\n",
       "       'Side', 'City', 'County', 'State', 'Zipcode', 'Country', 'Timezone',\n",
       "       'Airport_Code', 'Weather_Timestamp', 'Temperature(F)', 'Wind_Chill(F)',\n",
       "       'Humidity(%)', 'Pressure(in)', 'Visibility(mi)', 'Wind_Direction',\n",
       "       'Wind_Speed(mph)', 'Precipitation(in)', 'Weather_Condition', 'Amenity',\n",
       "       'Bump', 'Crossing', 'Give_Way', 'Junction', 'No_Exit', 'Railway',\n",
       "       'Roundabout', 'Station', 'Stop', 'Traffic_Calming', 'Traffic_Signal',\n",
       "       'Turning_Loop', 'Sunrise_Sunset', 'Civil_Twilight', 'Nautical_Twilight',\n",
       "       'Astronomical_Twilight'],\n",
       "      dtype='object')"
      ]
     },
     "execution_count": 72,
     "metadata": {},
     "output_type": "execute_result"
    }
   ],
   "source": [
    "df.columns"
   ]
  },
  {
   "cell_type": "code",
   "execution_count": 73,
   "metadata": {},
   "outputs": [
    {
     "name": "stdout",
     "output_type": "stream",
     "text": [
      "<class 'pandas.core.frame.DataFrame'>\n",
      "RangeIndex: 1048575 entries, 0 to 1048574\n",
      "Data columns (total 47 columns):\n",
      " #   Column                 Non-Null Count    Dtype  \n",
      "---  ------                 --------------    -----  \n",
      " 0   ID                     1048575 non-null  object \n",
      " 1   Severity               1048575 non-null  int64  \n",
      " 2   Start_Time             1048575 non-null  object \n",
      " 3   End_Time               1048575 non-null  object \n",
      " 4   Start_Lat              1048575 non-null  float64\n",
      " 5   Start_Lng              1048575 non-null  float64\n",
      " 6   End_Lat                1048575 non-null  float64\n",
      " 7   End_Lng                1048575 non-null  float64\n",
      " 8   Distance(mi)           1048575 non-null  float64\n",
      " 9   Description            1048575 non-null  object \n",
      " 10  Number                 433398 non-null   float64\n",
      " 11  Street                 1048574 non-null  object \n",
      " 12  Side                   1048575 non-null  object \n",
      " 13  City                   1048520 non-null  object \n",
      " 14  County                 1048575 non-null  object \n",
      " 15  State                  1048575 non-null  object \n",
      " 16  Zipcode                1048140 non-null  object \n",
      " 17  Country                1048575 non-null  object \n",
      " 18  Timezone               1047549 non-null  object \n",
      " 19  Airport_Code           1044928 non-null  object \n",
      " 20  Weather_Timestamp      1033059 non-null  object \n",
      " 21  Temperature(F)         1026829 non-null  float64\n",
      " 22  Wind_Chill(F)          834453 non-null   float64\n",
      " 23  Humidity(%)            1025847 non-null  float64\n",
      " 24  Pressure(in)           1029990 non-null  float64\n",
      " 25  Visibility(mi)         1026041 non-null  float64\n",
      " 26  Wind_Direction         1025949 non-null  object \n",
      " 27  Wind_Speed(mph)        990888 non-null   float64\n",
      " 28  Precipitation(in)      816892 non-null   float64\n",
      " 29  Weather_Condition      1025683 non-null  object \n",
      " 30  Amenity                1048575 non-null  bool   \n",
      " 31  Bump                   1048575 non-null  bool   \n",
      " 32  Crossing               1048575 non-null  bool   \n",
      " 33  Give_Way               1048575 non-null  bool   \n",
      " 34  Junction               1048575 non-null  bool   \n",
      " 35  No_Exit                1048575 non-null  bool   \n",
      " 36  Railway                1048575 non-null  bool   \n",
      " 37  Roundabout             1048575 non-null  bool   \n",
      " 38  Station                1048575 non-null  bool   \n",
      " 39  Stop                   1048575 non-null  bool   \n",
      " 40  Traffic_Calming        1048575 non-null  bool   \n",
      " 41  Traffic_Signal         1048575 non-null  bool   \n",
      " 42  Turning_Loop           1048575 non-null  bool   \n",
      " 43  Sunrise_Sunset         1046913 non-null  object \n",
      " 44  Civil_Twilight         1046913 non-null  object \n",
      " 45  Nautical_Twilight      1046913 non-null  object \n",
      " 46  Astronomical_Twilight  1046913 non-null  object \n",
      "dtypes: bool(13), float64(13), int64(1), object(20)\n",
      "memory usage: 285.0+ MB\n"
     ]
    }
   ],
   "source": [
    "df.info()"
   ]
  },
  {
   "cell_type": "code",
   "execution_count": 74,
   "metadata": {},
   "outputs": [
    {
     "data": {
      "text/html": [
       "<div>\n",
       "<style scoped>\n",
       "    .dataframe tbody tr th:only-of-type {\n",
       "        vertical-align: middle;\n",
       "    }\n",
       "\n",
       "    .dataframe tbody tr th {\n",
       "        vertical-align: top;\n",
       "    }\n",
       "\n",
       "    .dataframe thead th {\n",
       "        text-align: right;\n",
       "    }\n",
       "</style>\n",
       "<table border=\"1\" class=\"dataframe\">\n",
       "  <thead>\n",
       "    <tr style=\"text-align: right;\">\n",
       "      <th></th>\n",
       "      <th>Severity</th>\n",
       "      <th>Start_Lat</th>\n",
       "      <th>Start_Lng</th>\n",
       "      <th>End_Lat</th>\n",
       "      <th>End_Lng</th>\n",
       "      <th>Distance(mi)</th>\n",
       "      <th>Number</th>\n",
       "      <th>Temperature(F)</th>\n",
       "      <th>Wind_Chill(F)</th>\n",
       "      <th>Humidity(%)</th>\n",
       "      <th>Pressure(in)</th>\n",
       "      <th>Visibility(mi)</th>\n",
       "      <th>Wind_Speed(mph)</th>\n",
       "      <th>Precipitation(in)</th>\n",
       "    </tr>\n",
       "  </thead>\n",
       "  <tbody>\n",
       "    <tr>\n",
       "      <th>count</th>\n",
       "      <td>1.048575e+06</td>\n",
       "      <td>1.048575e+06</td>\n",
       "      <td>1.048575e+06</td>\n",
       "      <td>1.048575e+06</td>\n",
       "      <td>1.048575e+06</td>\n",
       "      <td>1.048575e+06</td>\n",
       "      <td>433398.000000</td>\n",
       "      <td>1.026829e+06</td>\n",
       "      <td>834453.000000</td>\n",
       "      <td>1.025847e+06</td>\n",
       "      <td>1.029990e+06</td>\n",
       "      <td>1.026041e+06</td>\n",
       "      <td>990888.000000</td>\n",
       "      <td>816892.000000</td>\n",
       "    </tr>\n",
       "    <tr>\n",
       "      <th>mean</th>\n",
       "      <td>2.119283e+00</td>\n",
       "      <td>3.584131e+01</td>\n",
       "      <td>-9.518573e+01</td>\n",
       "      <td>3.584147e+01</td>\n",
       "      <td>-9.518543e+01</td>\n",
       "      <td>8.056515e-01</td>\n",
       "      <td>7379.579730</td>\n",
       "      <td>6.579072e+01</td>\n",
       "      <td>64.127613</td>\n",
       "      <td>6.359135e+01</td>\n",
       "      <td>2.951553e+01</td>\n",
       "      <td>9.190253e+00</td>\n",
       "      <td>7.511449</td>\n",
       "      <td>0.008137</td>\n",
       "    </tr>\n",
       "    <tr>\n",
       "      <th>std</th>\n",
       "      <td>4.315101e-01</td>\n",
       "      <td>5.388367e+00</td>\n",
       "      <td>1.785732e+01</td>\n",
       "      <td>5.388549e+00</td>\n",
       "      <td>1.785712e+01</td>\n",
       "      <td>1.525762e+00</td>\n",
       "      <td>14450.352867</td>\n",
       "      <td>1.735472e+01</td>\n",
       "      <td>19.730705</td>\n",
       "      <td>2.249249e+01</td>\n",
       "      <td>9.927764e-01</td>\n",
       "      <td>2.563857e+00</td>\n",
       "      <td>5.422827</td>\n",
       "      <td>0.109322</td>\n",
       "    </tr>\n",
       "    <tr>\n",
       "      <th>min</th>\n",
       "      <td>2.000000e+00</td>\n",
       "      <td>2.456603e+01</td>\n",
       "      <td>-1.245481e+02</td>\n",
       "      <td>2.456601e+01</td>\n",
       "      <td>-1.245457e+02</td>\n",
       "      <td>0.000000e+00</td>\n",
       "      <td>1.000000</td>\n",
       "      <td>-2.300000e+01</td>\n",
       "      <td>-44.000000</td>\n",
       "      <td>1.000000e+00</td>\n",
       "      <td>2.000000e-02</td>\n",
       "      <td>0.000000e+00</td>\n",
       "      <td>0.000000</td>\n",
       "      <td>0.000000</td>\n",
       "    </tr>\n",
       "    <tr>\n",
       "      <th>25%</th>\n",
       "      <td>2.000000e+00</td>\n",
       "      <td>3.283785e+01</td>\n",
       "      <td>-1.175370e+02</td>\n",
       "      <td>3.283751e+01</td>\n",
       "      <td>-1.175380e+02</td>\n",
       "      <td>1.070000e-01</td>\n",
       "      <td>1246.000000</td>\n",
       "      <td>5.500000e+01</td>\n",
       "      <td>53.000000</td>\n",
       "      <td>4.800000e+01</td>\n",
       "      <td>2.937000e+01</td>\n",
       "      <td>1.000000e+01</td>\n",
       "      <td>4.600000</td>\n",
       "      <td>0.000000</td>\n",
       "    </tr>\n",
       "    <tr>\n",
       "      <th>50%</th>\n",
       "      <td>2.000000e+00</td>\n",
       "      <td>3.561352e+01</td>\n",
       "      <td>-8.769304e+01</td>\n",
       "      <td>3.561578e+01</td>\n",
       "      <td>-8.769304e+01</td>\n",
       "      <td>3.350000e-01</td>\n",
       "      <td>3951.000000</td>\n",
       "      <td>6.800000e+01</td>\n",
       "      <td>68.000000</td>\n",
       "      <td>6.500000e+01</td>\n",
       "      <td>2.984000e+01</td>\n",
       "      <td>1.000000e+01</td>\n",
       "      <td>7.000000</td>\n",
       "      <td>0.000000</td>\n",
       "    </tr>\n",
       "    <tr>\n",
       "      <th>75%</th>\n",
       "      <td>2.000000e+00</td>\n",
       "      <td>3.992189e+01</td>\n",
       "      <td>-8.029283e+01</td>\n",
       "      <td>3.992229e+01</td>\n",
       "      <td>-8.029289e+01</td>\n",
       "      <td>8.900000e-01</td>\n",
       "      <td>9085.000000</td>\n",
       "      <td>7.900000e+01</td>\n",
       "      <td>79.000000</td>\n",
       "      <td>8.200000e+01</td>\n",
       "      <td>3.001000e+01</td>\n",
       "      <td>1.000000e+01</td>\n",
       "      <td>10.000000</td>\n",
       "      <td>0.000000</td>\n",
       "    </tr>\n",
       "    <tr>\n",
       "      <th>max</th>\n",
       "      <td>4.000000e+00</td>\n",
       "      <td>4.900058e+01</td>\n",
       "      <td>-6.711317e+01</td>\n",
       "      <td>4.907500e+01</td>\n",
       "      <td>-6.710924e+01</td>\n",
       "      <td>1.515250e+02</td>\n",
       "      <td>961051.000000</td>\n",
       "      <td>1.960000e+02</td>\n",
       "      <td>196.000000</td>\n",
       "      <td>1.000000e+02</td>\n",
       "      <td>5.816000e+01</td>\n",
       "      <td>1.400000e+02</td>\n",
       "      <td>822.800000</td>\n",
       "      <td>24.000000</td>\n",
       "    </tr>\n",
       "  </tbody>\n",
       "</table>\n",
       "</div>"
      ],
      "text/plain": [
       "           Severity     Start_Lat     Start_Lng       End_Lat       End_Lng  \\\n",
       "count  1.048575e+06  1.048575e+06  1.048575e+06  1.048575e+06  1.048575e+06   \n",
       "mean   2.119283e+00  3.584131e+01 -9.518573e+01  3.584147e+01 -9.518543e+01   \n",
       "std    4.315101e-01  5.388367e+00  1.785732e+01  5.388549e+00  1.785712e+01   \n",
       "min    2.000000e+00  2.456603e+01 -1.245481e+02  2.456601e+01 -1.245457e+02   \n",
       "25%    2.000000e+00  3.283785e+01 -1.175370e+02  3.283751e+01 -1.175380e+02   \n",
       "50%    2.000000e+00  3.561352e+01 -8.769304e+01  3.561578e+01 -8.769304e+01   \n",
       "75%    2.000000e+00  3.992189e+01 -8.029283e+01  3.992229e+01 -8.029289e+01   \n",
       "max    4.000000e+00  4.900058e+01 -6.711317e+01  4.907500e+01 -6.710924e+01   \n",
       "\n",
       "       Distance(mi)         Number  Temperature(F)  Wind_Chill(F)  \\\n",
       "count  1.048575e+06  433398.000000    1.026829e+06  834453.000000   \n",
       "mean   8.056515e-01    7379.579730    6.579072e+01      64.127613   \n",
       "std    1.525762e+00   14450.352867    1.735472e+01      19.730705   \n",
       "min    0.000000e+00       1.000000   -2.300000e+01     -44.000000   \n",
       "25%    1.070000e-01    1246.000000    5.500000e+01      53.000000   \n",
       "50%    3.350000e-01    3951.000000    6.800000e+01      68.000000   \n",
       "75%    8.900000e-01    9085.000000    7.900000e+01      79.000000   \n",
       "max    1.515250e+02  961051.000000    1.960000e+02     196.000000   \n",
       "\n",
       "        Humidity(%)  Pressure(in)  Visibility(mi)  Wind_Speed(mph)  \\\n",
       "count  1.025847e+06  1.029990e+06    1.026041e+06    990888.000000   \n",
       "mean   6.359135e+01  2.951553e+01    9.190253e+00         7.511449   \n",
       "std    2.249249e+01  9.927764e-01    2.563857e+00         5.422827   \n",
       "min    1.000000e+00  2.000000e-02    0.000000e+00         0.000000   \n",
       "25%    4.800000e+01  2.937000e+01    1.000000e+01         4.600000   \n",
       "50%    6.500000e+01  2.984000e+01    1.000000e+01         7.000000   \n",
       "75%    8.200000e+01  3.001000e+01    1.000000e+01        10.000000   \n",
       "max    1.000000e+02  5.816000e+01    1.400000e+02       822.800000   \n",
       "\n",
       "       Precipitation(in)  \n",
       "count      816892.000000  \n",
       "mean            0.008137  \n",
       "std             0.109322  \n",
       "min             0.000000  \n",
       "25%             0.000000  \n",
       "50%             0.000000  \n",
       "75%             0.000000  \n",
       "max            24.000000  "
      ]
     },
     "execution_count": 74,
     "metadata": {},
     "output_type": "execute_result"
    }
   ],
   "source": [
    "df.describe()"
   ]
  },
  {
   "cell_type": "code",
   "execution_count": 75,
   "metadata": {},
   "outputs": [
    {
     "data": {
      "text/plain": [
       "14"
      ]
     },
     "execution_count": 75,
     "metadata": {},
     "output_type": "execute_result"
    }
   ],
   "source": [
    "numerics=['int16','int32','int64','float16','float32','float64']\n",
    "numerics_df=df.select_dtypes(include=numerics)\n",
    "len(numerics_df.columns)"
   ]
  },
  {
   "cell_type": "code",
   "execution_count": 76,
   "metadata": {},
   "outputs": [
    {
     "data": {
      "text/html": [
       "<div>\n",
       "<style scoped>\n",
       "    .dataframe tbody tr th:only-of-type {\n",
       "        vertical-align: middle;\n",
       "    }\n",
       "\n",
       "    .dataframe tbody tr th {\n",
       "        vertical-align: top;\n",
       "    }\n",
       "\n",
       "    .dataframe thead th {\n",
       "        text-align: right;\n",
       "    }\n",
       "</style>\n",
       "<table border=\"1\" class=\"dataframe\">\n",
       "  <thead>\n",
       "    <tr style=\"text-align: right;\">\n",
       "      <th></th>\n",
       "      <th>ID</th>\n",
       "      <th>Severity</th>\n",
       "      <th>Start_Time</th>\n",
       "      <th>End_Time</th>\n",
       "      <th>Start_Lat</th>\n",
       "      <th>Start_Lng</th>\n",
       "      <th>End_Lat</th>\n",
       "      <th>End_Lng</th>\n",
       "      <th>Distance(mi)</th>\n",
       "      <th>Description</th>\n",
       "      <th>...</th>\n",
       "      <th>Roundabout</th>\n",
       "      <th>Station</th>\n",
       "      <th>Stop</th>\n",
       "      <th>Traffic_Calming</th>\n",
       "      <th>Traffic_Signal</th>\n",
       "      <th>Turning_Loop</th>\n",
       "      <th>Sunrise_Sunset</th>\n",
       "      <th>Civil_Twilight</th>\n",
       "      <th>Nautical_Twilight</th>\n",
       "      <th>Astronomical_Twilight</th>\n",
       "    </tr>\n",
       "  </thead>\n",
       "  <tbody>\n",
       "    <tr>\n",
       "      <th>0</th>\n",
       "      <td>False</td>\n",
       "      <td>False</td>\n",
       "      <td>False</td>\n",
       "      <td>False</td>\n",
       "      <td>False</td>\n",
       "      <td>False</td>\n",
       "      <td>False</td>\n",
       "      <td>False</td>\n",
       "      <td>False</td>\n",
       "      <td>False</td>\n",
       "      <td>...</td>\n",
       "      <td>False</td>\n",
       "      <td>False</td>\n",
       "      <td>False</td>\n",
       "      <td>False</td>\n",
       "      <td>False</td>\n",
       "      <td>False</td>\n",
       "      <td>False</td>\n",
       "      <td>False</td>\n",
       "      <td>False</td>\n",
       "      <td>False</td>\n",
       "    </tr>\n",
       "    <tr>\n",
       "      <th>1</th>\n",
       "      <td>False</td>\n",
       "      <td>False</td>\n",
       "      <td>False</td>\n",
       "      <td>False</td>\n",
       "      <td>False</td>\n",
       "      <td>False</td>\n",
       "      <td>False</td>\n",
       "      <td>False</td>\n",
       "      <td>False</td>\n",
       "      <td>False</td>\n",
       "      <td>...</td>\n",
       "      <td>False</td>\n",
       "      <td>False</td>\n",
       "      <td>False</td>\n",
       "      <td>False</td>\n",
       "      <td>False</td>\n",
       "      <td>False</td>\n",
       "      <td>False</td>\n",
       "      <td>False</td>\n",
       "      <td>False</td>\n",
       "      <td>False</td>\n",
       "    </tr>\n",
       "    <tr>\n",
       "      <th>2</th>\n",
       "      <td>False</td>\n",
       "      <td>False</td>\n",
       "      <td>False</td>\n",
       "      <td>False</td>\n",
       "      <td>False</td>\n",
       "      <td>False</td>\n",
       "      <td>False</td>\n",
       "      <td>False</td>\n",
       "      <td>False</td>\n",
       "      <td>False</td>\n",
       "      <td>...</td>\n",
       "      <td>False</td>\n",
       "      <td>False</td>\n",
       "      <td>False</td>\n",
       "      <td>False</td>\n",
       "      <td>False</td>\n",
       "      <td>False</td>\n",
       "      <td>False</td>\n",
       "      <td>False</td>\n",
       "      <td>False</td>\n",
       "      <td>False</td>\n",
       "    </tr>\n",
       "    <tr>\n",
       "      <th>3</th>\n",
       "      <td>False</td>\n",
       "      <td>False</td>\n",
       "      <td>False</td>\n",
       "      <td>False</td>\n",
       "      <td>False</td>\n",
       "      <td>False</td>\n",
       "      <td>False</td>\n",
       "      <td>False</td>\n",
       "      <td>False</td>\n",
       "      <td>False</td>\n",
       "      <td>...</td>\n",
       "      <td>False</td>\n",
       "      <td>False</td>\n",
       "      <td>False</td>\n",
       "      <td>False</td>\n",
       "      <td>False</td>\n",
       "      <td>False</td>\n",
       "      <td>False</td>\n",
       "      <td>False</td>\n",
       "      <td>False</td>\n",
       "      <td>False</td>\n",
       "    </tr>\n",
       "    <tr>\n",
       "      <th>4</th>\n",
       "      <td>False</td>\n",
       "      <td>False</td>\n",
       "      <td>False</td>\n",
       "      <td>False</td>\n",
       "      <td>False</td>\n",
       "      <td>False</td>\n",
       "      <td>False</td>\n",
       "      <td>False</td>\n",
       "      <td>False</td>\n",
       "      <td>False</td>\n",
       "      <td>...</td>\n",
       "      <td>False</td>\n",
       "      <td>False</td>\n",
       "      <td>False</td>\n",
       "      <td>False</td>\n",
       "      <td>False</td>\n",
       "      <td>False</td>\n",
       "      <td>False</td>\n",
       "      <td>False</td>\n",
       "      <td>False</td>\n",
       "      <td>False</td>\n",
       "    </tr>\n",
       "    <tr>\n",
       "      <th>...</th>\n",
       "      <td>...</td>\n",
       "      <td>...</td>\n",
       "      <td>...</td>\n",
       "      <td>...</td>\n",
       "      <td>...</td>\n",
       "      <td>...</td>\n",
       "      <td>...</td>\n",
       "      <td>...</td>\n",
       "      <td>...</td>\n",
       "      <td>...</td>\n",
       "      <td>...</td>\n",
       "      <td>...</td>\n",
       "      <td>...</td>\n",
       "      <td>...</td>\n",
       "      <td>...</td>\n",
       "      <td>...</td>\n",
       "      <td>...</td>\n",
       "      <td>...</td>\n",
       "      <td>...</td>\n",
       "      <td>...</td>\n",
       "      <td>...</td>\n",
       "    </tr>\n",
       "    <tr>\n",
       "      <th>1048570</th>\n",
       "      <td>False</td>\n",
       "      <td>False</td>\n",
       "      <td>False</td>\n",
       "      <td>False</td>\n",
       "      <td>False</td>\n",
       "      <td>False</td>\n",
       "      <td>False</td>\n",
       "      <td>False</td>\n",
       "      <td>False</td>\n",
       "      <td>False</td>\n",
       "      <td>...</td>\n",
       "      <td>False</td>\n",
       "      <td>False</td>\n",
       "      <td>False</td>\n",
       "      <td>False</td>\n",
       "      <td>False</td>\n",
       "      <td>False</td>\n",
       "      <td>False</td>\n",
       "      <td>False</td>\n",
       "      <td>False</td>\n",
       "      <td>False</td>\n",
       "    </tr>\n",
       "    <tr>\n",
       "      <th>1048571</th>\n",
       "      <td>False</td>\n",
       "      <td>False</td>\n",
       "      <td>False</td>\n",
       "      <td>False</td>\n",
       "      <td>False</td>\n",
       "      <td>False</td>\n",
       "      <td>False</td>\n",
       "      <td>False</td>\n",
       "      <td>False</td>\n",
       "      <td>False</td>\n",
       "      <td>...</td>\n",
       "      <td>False</td>\n",
       "      <td>False</td>\n",
       "      <td>False</td>\n",
       "      <td>False</td>\n",
       "      <td>False</td>\n",
       "      <td>False</td>\n",
       "      <td>False</td>\n",
       "      <td>False</td>\n",
       "      <td>False</td>\n",
       "      <td>False</td>\n",
       "    </tr>\n",
       "    <tr>\n",
       "      <th>1048572</th>\n",
       "      <td>False</td>\n",
       "      <td>False</td>\n",
       "      <td>False</td>\n",
       "      <td>False</td>\n",
       "      <td>False</td>\n",
       "      <td>False</td>\n",
       "      <td>False</td>\n",
       "      <td>False</td>\n",
       "      <td>False</td>\n",
       "      <td>False</td>\n",
       "      <td>...</td>\n",
       "      <td>False</td>\n",
       "      <td>False</td>\n",
       "      <td>False</td>\n",
       "      <td>False</td>\n",
       "      <td>False</td>\n",
       "      <td>False</td>\n",
       "      <td>False</td>\n",
       "      <td>False</td>\n",
       "      <td>False</td>\n",
       "      <td>False</td>\n",
       "    </tr>\n",
       "    <tr>\n",
       "      <th>1048573</th>\n",
       "      <td>False</td>\n",
       "      <td>False</td>\n",
       "      <td>False</td>\n",
       "      <td>False</td>\n",
       "      <td>False</td>\n",
       "      <td>False</td>\n",
       "      <td>False</td>\n",
       "      <td>False</td>\n",
       "      <td>False</td>\n",
       "      <td>False</td>\n",
       "      <td>...</td>\n",
       "      <td>False</td>\n",
       "      <td>False</td>\n",
       "      <td>False</td>\n",
       "      <td>False</td>\n",
       "      <td>False</td>\n",
       "      <td>False</td>\n",
       "      <td>False</td>\n",
       "      <td>False</td>\n",
       "      <td>False</td>\n",
       "      <td>False</td>\n",
       "    </tr>\n",
       "    <tr>\n",
       "      <th>1048574</th>\n",
       "      <td>False</td>\n",
       "      <td>False</td>\n",
       "      <td>False</td>\n",
       "      <td>False</td>\n",
       "      <td>False</td>\n",
       "      <td>False</td>\n",
       "      <td>False</td>\n",
       "      <td>False</td>\n",
       "      <td>False</td>\n",
       "      <td>False</td>\n",
       "      <td>...</td>\n",
       "      <td>False</td>\n",
       "      <td>False</td>\n",
       "      <td>False</td>\n",
       "      <td>False</td>\n",
       "      <td>False</td>\n",
       "      <td>False</td>\n",
       "      <td>False</td>\n",
       "      <td>False</td>\n",
       "      <td>False</td>\n",
       "      <td>False</td>\n",
       "    </tr>\n",
       "  </tbody>\n",
       "</table>\n",
       "<p>1048575 rows × 47 columns</p>\n",
       "</div>"
      ],
      "text/plain": [
       "            ID  Severity  Start_Time  End_Time  Start_Lat  Start_Lng  End_Lat  \\\n",
       "0        False     False       False     False      False      False    False   \n",
       "1        False     False       False     False      False      False    False   \n",
       "2        False     False       False     False      False      False    False   \n",
       "3        False     False       False     False      False      False    False   \n",
       "4        False     False       False     False      False      False    False   \n",
       "...        ...       ...         ...       ...        ...        ...      ...   \n",
       "1048570  False     False       False     False      False      False    False   \n",
       "1048571  False     False       False     False      False      False    False   \n",
       "1048572  False     False       False     False      False      False    False   \n",
       "1048573  False     False       False     False      False      False    False   \n",
       "1048574  False     False       False     False      False      False    False   \n",
       "\n",
       "         End_Lng  Distance(mi)  Description  ...  Roundabout  Station   Stop  \\\n",
       "0          False         False        False  ...       False    False  False   \n",
       "1          False         False        False  ...       False    False  False   \n",
       "2          False         False        False  ...       False    False  False   \n",
       "3          False         False        False  ...       False    False  False   \n",
       "4          False         False        False  ...       False    False  False   \n",
       "...          ...           ...          ...  ...         ...      ...    ...   \n",
       "1048570    False         False        False  ...       False    False  False   \n",
       "1048571    False         False        False  ...       False    False  False   \n",
       "1048572    False         False        False  ...       False    False  False   \n",
       "1048573    False         False        False  ...       False    False  False   \n",
       "1048574    False         False        False  ...       False    False  False   \n",
       "\n",
       "         Traffic_Calming  Traffic_Signal  Turning_Loop  Sunrise_Sunset  \\\n",
       "0                  False           False         False           False   \n",
       "1                  False           False         False           False   \n",
       "2                  False           False         False           False   \n",
       "3                  False           False         False           False   \n",
       "4                  False           False         False           False   \n",
       "...                  ...             ...           ...             ...   \n",
       "1048570            False           False         False           False   \n",
       "1048571            False           False         False           False   \n",
       "1048572            False           False         False           False   \n",
       "1048573            False           False         False           False   \n",
       "1048574            False           False         False           False   \n",
       "\n",
       "         Civil_Twilight  Nautical_Twilight  Astronomical_Twilight  \n",
       "0                 False              False                  False  \n",
       "1                 False              False                  False  \n",
       "2                 False              False                  False  \n",
       "3                 False              False                  False  \n",
       "4                 False              False                  False  \n",
       "...                 ...                ...                    ...  \n",
       "1048570           False              False                  False  \n",
       "1048571           False              False                  False  \n",
       "1048572           False              False                  False  \n",
       "1048573           False              False                  False  \n",
       "1048574           False              False                  False  \n",
       "\n",
       "[1048575 rows x 47 columns]"
      ]
     },
     "execution_count": 76,
     "metadata": {},
     "output_type": "execute_result"
    }
   ],
   "source": [
    "df.isna()"
   ]
  },
  {
   "cell_type": "code",
   "execution_count": 77,
   "metadata": {},
   "outputs": [
    {
     "data": {
      "text/plain": [
       "Number                   615177\n",
       "Precipitation(in)        231683\n",
       "Wind_Chill(F)            214122\n",
       "Wind_Speed(mph)           57687\n",
       "Weather_Condition         22892\n",
       "Humidity(%)               22728\n",
       "Wind_Direction            22626\n",
       "Visibility(mi)            22534\n",
       "Temperature(F)            21746\n",
       "Pressure(in)              18585\n",
       "Weather_Timestamp         15516\n",
       "Airport_Code               3647\n",
       "Nautical_Twilight          1662\n",
       "Civil_Twilight             1662\n",
       "Sunrise_Sunset             1662\n",
       "Astronomical_Twilight      1662\n",
       "Timezone                   1026\n",
       "Zipcode                     435\n",
       "City                         55\n",
       "Street                        1\n",
       "End_Time                      0\n",
       "Start_Time                    0\n",
       "Start_Lat                     0\n",
       "Turning_Loop                  0\n",
       "Give_Way                      0\n",
       "Traffic_Signal                0\n",
       "Traffic_Calming               0\n",
       "Stop                          0\n",
       "Station                       0\n",
       "Roundabout                    0\n",
       "Railway                       0\n",
       "No_Exit                       0\n",
       "Junction                      0\n",
       "Bump                          0\n",
       "Crossing                      0\n",
       "Country                       0\n",
       "Amenity                       0\n",
       "Start_Lng                     0\n",
       "End_Lat                       0\n",
       "End_Lng                       0\n",
       "Distance(mi)                  0\n",
       "Description                   0\n",
       "Severity                      0\n",
       "Side                          0\n",
       "County                        0\n",
       "State                         0\n",
       "ID                            0\n",
       "dtype: int64"
      ]
     },
     "execution_count": 77,
     "metadata": {},
     "output_type": "execute_result"
    }
   ],
   "source": [
    "df.isna().sum().sort_values(ascending=False)"
   ]
  },
  {
   "cell_type": "code",
   "execution_count": 78,
   "metadata": {},
   "outputs": [
    {
     "data": {
      "text/plain": [
       "Number                   5.866791e-01\n",
       "Precipitation(in)        2.209503e-01\n",
       "Wind_Chill(F)            2.042028e-01\n",
       "Wind_Speed(mph)          5.501466e-02\n",
       "Weather_Condition        2.183153e-02\n",
       "Humidity(%)              2.167513e-02\n",
       "Wind_Direction           2.157786e-02\n",
       "Visibility(mi)           2.149012e-02\n",
       "Temperature(F)           2.073862e-02\n",
       "Pressure(in)             1.772405e-02\n",
       "Weather_Timestamp        1.479722e-02\n",
       "Airport_Code             3.478054e-03\n",
       "Nautical_Twilight        1.585008e-03\n",
       "Civil_Twilight           1.585008e-03\n",
       "Sunrise_Sunset           1.585008e-03\n",
       "Astronomical_Twilight    1.585008e-03\n",
       "Timezone                 9.784708e-04\n",
       "Zipcode                  4.148487e-04\n",
       "City                     5.245214e-05\n",
       "Street                   9.536752e-07\n",
       "End_Time                 0.000000e+00\n",
       "Start_Time               0.000000e+00\n",
       "Start_Lat                0.000000e+00\n",
       "Turning_Loop             0.000000e+00\n",
       "Give_Way                 0.000000e+00\n",
       "Traffic_Signal           0.000000e+00\n",
       "Traffic_Calming          0.000000e+00\n",
       "Stop                     0.000000e+00\n",
       "Station                  0.000000e+00\n",
       "Roundabout               0.000000e+00\n",
       "Railway                  0.000000e+00\n",
       "No_Exit                  0.000000e+00\n",
       "Junction                 0.000000e+00\n",
       "Bump                     0.000000e+00\n",
       "Crossing                 0.000000e+00\n",
       "Country                  0.000000e+00\n",
       "Amenity                  0.000000e+00\n",
       "Start_Lng                0.000000e+00\n",
       "End_Lat                  0.000000e+00\n",
       "End_Lng                  0.000000e+00\n",
       "Distance(mi)             0.000000e+00\n",
       "Description              0.000000e+00\n",
       "Severity                 0.000000e+00\n",
       "Side                     0.000000e+00\n",
       "County                   0.000000e+00\n",
       "State                    0.000000e+00\n",
       "ID                       0.000000e+00\n",
       "dtype: float64"
      ]
     },
     "execution_count": 78,
     "metadata": {},
     "output_type": "execute_result"
    }
   ],
   "source": [
    "missing_percentage=df.isna().sum().sort_values(ascending=False)/len(df)\n",
    "missing_percentage"
   ]
  },
  {
   "cell_type": "code",
   "execution_count": 79,
   "metadata": {},
   "outputs": [
    {
     "data": {
      "text/plain": [
       "pandas.core.series.Series"
      ]
     },
     "execution_count": 79,
     "metadata": {},
     "output_type": "execute_result"
    }
   ],
   "source": [
    "type(missing_percentage)"
   ]
  },
  {
   "cell_type": "code",
   "execution_count": 80,
   "metadata": {},
   "outputs": [
    {
     "data": {
      "text/plain": [
       "<Axes: >"
      ]
     },
     "execution_count": 80,
     "metadata": {},
     "output_type": "execute_result"
    },
    {
     "data": {
      "image/png": "[encoded data removed]",
      "text/plain": [
       "<Figure size 640x480 with 1 Axes>"
      ]
     },
     "metadata": {},
     "output_type": "display_data"
    }
   ],
   "source": [
    "from matplotlib import pyplot as plt\n",
    "missing_percentage[:20].plot(kind='barh')"
   ]
  },
  {
   "cell_type": "code",
   "execution_count": 81,
   "metadata": {},
   "outputs": [
    {
     "data": {
      "text/plain": [
       "Number                    True\n",
       "Precipitation(in)         True\n",
       "Wind_Chill(F)             True\n",
       "Wind_Speed(mph)           True\n",
       "Weather_Condition         True\n",
       "Humidity(%)               True\n",
       "Wind_Direction            True\n",
       "Visibility(mi)            True\n",
       "Temperature(F)            True\n",
       "Pressure(in)              True\n",
       "Weather_Timestamp         True\n",
       "Airport_Code              True\n",
       "Nautical_Twilight         True\n",
       "Civil_Twilight            True\n",
       "Sunrise_Sunset            True\n",
       "Astronomical_Twilight     True\n",
       "Timezone                  True\n",
       "Zipcode                   True\n",
       "City                      True\n",
       "Street                    True\n",
       "End_Time                 False\n",
       "Start_Time               False\n",
       "Start_Lat                False\n",
       "Turning_Loop             False\n",
       "Give_Way                 False\n",
       "Traffic_Signal           False\n",
       "Traffic_Calming          False\n",
       "Stop                     False\n",
       "Station                  False\n",
       "Roundabout               False\n",
       "Railway                  False\n",
       "No_Exit                  False\n",
       "Junction                 False\n",
       "Bump                     False\n",
       "Crossing                 False\n",
       "Country                  False\n",
       "Amenity                  False\n",
       "Start_Lng                False\n",
       "End_Lat                  False\n",
       "End_Lng                  False\n",
       "Distance(mi)             False\n",
       "Description              False\n",
       "Severity                 False\n",
       "Side                     False\n",
       "County                   False\n",
       "State                    False\n",
       "ID                       False\n",
       "dtype: bool"
      ]
     },
     "execution_count": 81,
     "metadata": {},
     "output_type": "execute_result"
    }
   ],
   "source": [
    "missing_percentage!=0"
   ]
  },
  {
   "cell_type": "code",
   "execution_count": 82,
   "metadata": {},
   "outputs": [],
   "source": [
    "#Columns to analyse:\n",
    "#City\n",
    "#Start time\n",
    "#Start Lat,Start Lng\n",
    "#Temperature\n",
    "#Weather Condition"
   ]
  },
  {
   "cell_type": "code",
   "execution_count": 83,
   "metadata": {},
   "outputs": [
    {
     "data": {
      "text/plain": [
       "0                Dublin\n",
       "1                Dayton\n",
       "2            Cincinnati\n",
       "3                 Akron\n",
       "4            Cincinnati\n",
       "               ...     \n",
       "1048570    Independence\n",
       "1048571     Stony Point\n",
       "1048572       Charlotte\n",
       "1048573     Miami Lakes\n",
       "1048574      Sacramento\n",
       "Name: City, Length: 1048575, dtype: object"
      ]
     },
     "execution_count": 83,
     "metadata": {},
     "output_type": "execute_result"
    }
   ],
   "source": [
    "df.City"
   ]
  },
  {
   "cell_type": "code",
   "execution_count": 84,
   "metadata": {},
   "outputs": [
    {
     "data": {
      "text/plain": [
       "10078"
      ]
     },
     "execution_count": 84,
     "metadata": {},
     "output_type": "execute_result"
    }
   ],
   "source": [
    "cities=df.City.unique()\n",
    "len(cities)"
   ]
  },
  {
   "cell_type": "code",
   "execution_count": 85,
   "metadata": {},
   "outputs": [
    {
     "data": {
      "text/plain": [
       "Miami            46971\n",
       "Orlando          25984\n",
       "Los Angeles      23048\n",
       "Dallas           18044\n",
       "Houston          16985\n",
       "                 ...  \n",
       "Schroeder            1\n",
       "Silver Gate          1\n",
       "Warden               1\n",
       "Sandy Level          1\n",
       "Marion Center        1\n",
       "Name: City, Length: 10077, dtype: int64"
      ]
     },
     "execution_count": 85,
     "metadata": {},
     "output_type": "execute_result"
    }
   ],
   "source": [
    "cities_by_accidents = df.City.value_counts()\n",
    "cities_by_accidents"
   ]
  },
  {
   "cell_type": "code",
   "execution_count": 86,
   "metadata": {},
   "outputs": [
    {
     "data": {
      "text/plain": [
       "Miami          46971\n",
       "Orlando        25984\n",
       "Los Angeles    23048\n",
       "Dallas         18044\n",
       "Houston        16985\n",
       "Charlotte      14686\n",
       "Sacramento     10622\n",
       "San Diego       9964\n",
       "Raleigh         9206\n",
       "Nashville       8423\n",
       "Name: City, dtype: int64"
      ]
     },
     "execution_count": 86,
     "metadata": {},
     "output_type": "execute_result"
    }
   ],
   "source": [
    "cities_by_accidents[:10]"
   ]
  },
  {
   "cell_type": "code",
   "execution_count": 87,
   "metadata": {},
   "outputs": [
    {
     "data": {
      "text/plain": [
       "False"
      ]
     },
     "execution_count": 87,
     "metadata": {},
     "output_type": "execute_result"
    }
   ],
   "source": [
    "'New York' in df.City"
   ]
  },
  {
   "cell_type": "code",
   "execution_count": 88,
   "metadata": {},
   "outputs": [],
   "source": [
    "#New york has the highest population but not in the accident records because\n",
    "#we do not have any records on new York."
   ]
  },
  {
   "cell_type": "code",
   "execution_count": 89,
   "metadata": {},
   "outputs": [
    {
     "data": {
      "text/plain": [
       "<Axes: >"
      ]
     },
     "execution_count": 89,
     "metadata": {},
     "output_type": "execute_result"
    },
    {
     "data": {
      "image/png": "[encoded data removed]",
      "text/plain": [
       "<Figure size 640x480 with 1 Axes>"
      ]
     },
     "metadata": {},
     "output_type": "display_data"
    }
   ],
   "source": [
    "from matplotlib import pyplot as plt\n",
    "cities_by_accidents[:20].plot(kind='bar')"
   ]
  },
  {
   "cell_type": "code",
   "execution_count": 90,
   "metadata": {},
   "outputs": [
    {
     "name": "stderr",
     "output_type": "stream",
     "text": [
      "C:\\Users\\ASUS\\AppData\\Local\\Temp\\ipykernel_20220\\1498804105.py:3: UserWarning: \n",
      "\n",
      "`distplot` is a deprecated function and will be removed in seaborn v0.14.0.\n",
      "\n",
      "Please adapt your code to use either `displot` (a figure-level function with\n",
      "similar flexibility) or `histplot` (an axes-level function for histograms).\n",
      "\n",
      "For a guide to updating your code to use the new functions, please see\n",
      "https://gist.github.com/mwaskom/de44147ed2974457ad6372750bbe5751\n",
      "\n",
      "  sns.distplot(cities_by_accidents)\n"
     ]
    },
    {
     "data": {
      "text/plain": [
       "<Axes: xlabel='City', ylabel='Density'>"
      ]
     },
     "execution_count": 90,
     "metadata": {},
     "output_type": "execute_result"
    },
    {
     "data": {
      "image/png": "[encoded data removed]",
      "text/plain": [
       "<Figure size 640x480 with 1 Axes>"
      ]
     },
     "metadata": {},
     "output_type": "display_data"
    }
   ],
   "source": [
    "import seaborn as sns \n",
    "sns.set_style(\"darkgrid\")\n",
    "sns.distplot(cities_by_accidents)"
   ]
  },
  {
   "cell_type": "code",
   "execution_count": 91,
   "metadata": {},
   "outputs": [],
   "source": [
    "high_accident_cities = cities_by_accidents[cities_by_accidents >= 1000]\n",
    "low_accident_cities = cities_by_accidents[cities_by_accidents < 1000]"
   ]
  },
  {
   "cell_type": "code",
   "execution_count": 92,
   "metadata": {},
   "outputs": [
    {
     "data": {
      "text/plain": [
       "0.01418932327842826"
      ]
     },
     "execution_count": 92,
     "metadata": {},
     "output_type": "execute_result"
    }
   ],
   "source": [
    "len(high_accident_cities)/len(cities)"
   ]
  },
  {
   "cell_type": "code",
   "execution_count": 93,
   "metadata": {},
   "outputs": [
    {
     "name": "stderr",
     "output_type": "stream",
     "text": [
      "C:\\Users\\ASUS\\AppData\\Local\\Temp\\ipykernel_20220\\2843252471.py:1: UserWarning: \n",
      "\n",
      "`distplot` is a deprecated function and will be removed in seaborn v0.14.0.\n",
      "\n",
      "Please adapt your code to use either `displot` (a figure-level function with\n",
      "similar flexibility) or `histplot` (an axes-level function for histograms).\n",
      "\n",
      "For a guide to updating your code to use the new functions, please see\n",
      "https://gist.github.com/mwaskom/de44147ed2974457ad6372750bbe5751\n",
      "\n",
      "  sns.distplot(high_accident_cities)\n"
     ]
    },
    {
     "data": {
      "text/plain": [
       "<Axes: xlabel='City', ylabel='Density'>"
      ]
     },
     "execution_count": 93,
     "metadata": {},
     "output_type": "execute_result"
    },
    {
     "data": {
      "image/png": "[encoded data removed]",
      "text/plain": [
       "<Figure size 640x480 with 1 Axes>"
      ]
     },
     "metadata": {},
     "output_type": "display_data"
    }
   ],
   "source": [
    "sns.distplot(high_accident_cities)"
   ]
  },
  {
   "cell_type": "code",
   "execution_count": 94,
   "metadata": {},
   "outputs": [
    {
     "name": "stderr",
     "output_type": "stream",
     "text": [
      "C:\\Users\\ASUS\\AppData\\Local\\Temp\\ipykernel_20220\\469555131.py:1: UserWarning: \n",
      "\n",
      "`distplot` is a deprecated function and will be removed in seaborn v0.14.0.\n",
      "\n",
      "Please adapt your code to use either `displot` (a figure-level function with\n",
      "similar flexibility) or `histplot` (an axes-level function for histograms).\n",
      "\n",
      "For a guide to updating your code to use the new functions, please see\n",
      "https://gist.github.com/mwaskom/de44147ed2974457ad6372750bbe5751\n",
      "\n",
      "  sns.distplot(low_accident_cities)\n"
     ]
    },
    {
     "data": {
      "text/plain": [
       "<Axes: xlabel='City', ylabel='Density'>"
      ]
     },
     "execution_count": 94,
     "metadata": {},
     "output_type": "execute_result"
    },
    {
     "data": {
      "image/png": "[encoded data removed]",
      "text/plain": [
       "<Figure size 640x480 with 1 Axes>"
      ]
     },
     "metadata": {},
     "output_type": "display_data"
    }
   ],
   "source": [
    "sns.distplot(low_accident_cities)"
   ]
  },
  {
   "cell_type": "code",
   "execution_count": 95,
   "metadata": {},
   "outputs": [],
   "source": [
    "##Here the graphs do not provide much information because get after the exponential \n",
    "##rise and fall it is a flat line so you cannot get much conclusive evidence\n",
    "##Hence we use a \"logarithmic scale\" to plot the graph"
   ]
  },
  {
   "cell_type": "code",
   "execution_count": 96,
   "metadata": {
    "scrolled": true
   },
   "outputs": [
    {
     "data": {
      "text/plain": [
       "<Axes: xlabel='City', ylabel='Count'>"
      ]
     },
     "execution_count": 96,
     "metadata": {},
     "output_type": "execute_result"
    },
    {
     "data": {
      "image/png": "[encoded data removed]",
      "text/plain": [
       "<Figure size 640x480 with 1 Axes>"
      ]
     },
     "metadata": {},
     "output_type": "display_data"
    }
   ],
   "source": [
    "sns.histplot(cities_by_accidents, log_scale=True)"
   ]
  },
  {
   "cell_type": "code",
   "execution_count": 97,
   "metadata": {},
   "outputs": [
    {
     "data": {
      "text/plain": [
       "Vine Grove          1\n",
       "Fryburg             1\n",
       "Jenison             1\n",
       "Griffith            1\n",
       "Dearborn Heights    1\n",
       "                   ..\n",
       "Schroeder           1\n",
       "Silver Gate         1\n",
       "Warden              1\n",
       "Sandy Level         1\n",
       "Marion Center       1\n",
       "Name: City, Length: 1189, dtype: int64"
      ]
     },
     "execution_count": 97,
     "metadata": {},
     "output_type": "execute_result"
    }
   ],
   "source": [
    "cities_by_accidents[cities_by_accidents ==1]"
   ]
  },
  {
   "cell_type": "code",
   "execution_count": 98,
   "metadata": {},
   "outputs": [],
   "source": [
    "#We will analyse one column now "
   ]
  },
  {
   "cell_type": "code",
   "execution_count": 99,
   "metadata": {},
   "outputs": [
    {
     "data": {
      "text/plain": [
       "0      2/8/2016 0:37\n",
       "1      2/8/2016 5:56\n",
       "2      2/8/2016 6:15\n",
       "3      2/8/2016 6:51\n",
       "4      2/8/2016 7:53\n",
       "5      2/8/2016 8:16\n",
       "6      2/8/2016 8:15\n",
       "7     2/8/2016 11:51\n",
       "8     2/8/2016 14:19\n",
       "9     2/8/2016 15:16\n",
       "10    2/8/2016 15:43\n",
       "11    2/8/2016 16:50\n",
       "12    2/8/2016 17:27\n",
       "13    2/8/2016 17:30\n",
       "14    2/8/2016 18:11\n",
       "15    2/8/2016 18:11\n",
       "16    2/8/2016 19:47\n",
       "17    2/8/2016 19:47\n",
       "18    2/8/2016 20:13\n",
       "19    2/8/2016 21:00\n",
       "Name: Start_Time, dtype: object"
      ]
     },
     "execution_count": 99,
     "metadata": {},
     "output_type": "execute_result"
    }
   ],
   "source": [
    "df.Start_Time[:20]"
   ]
  },
  {
   "cell_type": "code",
   "execution_count": 100,
   "metadata": {},
   "outputs": [
    {
     "name": "stdout",
     "output_type": "stream",
     "text": [
      "Unexpected exception formatting exception. Falling back to standard exception\n"
     ]
    },
    {
     "name": "stderr",
     "output_type": "stream",
     "text": [
      "Traceback (most recent call last):\n",
      "  File \"C:\\Users\\ASUS\\AppData\\Roaming\\Python\\Python310\\site-packages\\dateutil\\parser\\_parser.py\", line 649, in parse\n",
      "    ret = self._build_naive(res, default)\n",
      "  File \"C:\\Users\\ASUS\\AppData\\Roaming\\Python\\Python310\\site-packages\\dateutil\\parser\\_parser.py\", line 1235, in _build_naive\n",
      "    naive = default.replace(**repl)\n",
      "ValueError: hour must be in 0..23\n",
      "\n",
      "The above exception was the direct cause of the following exception:\n",
      "\n",
      "Traceback (most recent call last):\n",
      "  File \"pandas\\_libs\\tslib.pyx\", line 605, in pandas._libs.tslib.array_to_datetime\n",
      "  File \"pandas\\_libs\\tslibs\\parsing.pyx\", line 318, in pandas._libs.tslibs.parsing.parse_datetime_string\n",
      "  File \"C:\\Users\\ASUS\\AppData\\Roaming\\Python\\Python310\\site-packages\\dateutil\\parser\\_parser.py\", line 1368, in parse\n",
      "    return DEFAULTPARSER.parse(timestr, **kwargs)\n",
      "  File \"C:\\Users\\ASUS\\AppData\\Roaming\\Python\\Python310\\site-packages\\dateutil\\parser\\_parser.py\", line 651, in parse\n",
      "    six.raise_from(ParserError(str(e) + \": %s\", timestr), e)\n",
      "  File \"<string>\", line 3, in raise_from\n",
      "dateutil.parser._parser.ParserError: hour must be in 0..23: 36:30.0\n",
      "\n",
      "During handling of the above exception, another exception occurred:\n",
      "\n",
      "Traceback (most recent call last):\n",
      "  File \"pandas\\_libs\\tslib.pyx\", line 616, in pandas._libs.tslib.array_to_datetime\n",
      "TypeError: invalid string coercion to datetime for \"36:30.0\" at position 229886\n",
      "\n",
      "During handling of the above exception, another exception occurred:\n",
      "\n",
      "Traceback (most recent call last):\n",
      "  File \"C:\\Users\\ASUS\\AppData\\Roaming\\Python\\Python310\\site-packages\\dateutil\\parser\\_parser.py\", line 649, in parse\n",
      "    ret = self._build_naive(res, default)\n",
      "  File \"C:\\Users\\ASUS\\AppData\\Roaming\\Python\\Python310\\site-packages\\dateutil\\parser\\_parser.py\", line 1235, in _build_naive\n",
      "    naive = default.replace(**repl)\n",
      "ValueError: hour must be in 0..23\n",
      "\n",
      "The above exception was the direct cause of the following exception:\n",
      "\n",
      "Traceback (most recent call last):\n",
      "  File \"C:\\Users\\ASUS\\AppData\\Roaming\\Python\\Python310\\site-packages\\IPython\\core\\interactiveshell.py\", line 3460, in run_code\n",
      "    exec(code_obj, self.user_global_ns, self.user_ns)\n",
      "  File \"C:\\Users\\ASUS\\AppData\\Local\\Temp\\ipykernel_20220\\2472905078.py\", line 1, in <module>\n",
      "    df.Start_Time = pd.to_datetime(df.Start_Time)\n",
      "  File \"C:\\Python310\\lib\\site-packages\\pandas\\core\\tools\\datetimes.py\", line 1068, in to_datetime\n",
      "    values = convert_listlike(arg._values, format)\n",
      "  File \"C:\\Python310\\lib\\site-packages\\pandas\\core\\tools\\datetimes.py\", line 438, in _convert_listlike_datetimes\n",
      "    result, tz_parsed = objects_to_datetime64ns(\n",
      "  File \"C:\\Python310\\lib\\site-packages\\pandas\\core\\arrays\\datetimes.py\", line 2177, in objects_to_datetime64ns\n",
      "    result, tz_parsed = tslib.array_to_datetime(\n",
      "  File \"pandas\\_libs\\tslib.pyx\", line 427, in pandas._libs.tslib.array_to_datetime\n",
      "  File \"pandas\\_libs\\tslib.pyx\", line 683, in pandas._libs.tslib.array_to_datetime\n",
      "  File \"pandas\\_libs\\tslib.pyx\", line 829, in pandas._libs.tslib._array_to_datetime_object\n",
      "  File \"pandas\\_libs\\tslib.pyx\", line 819, in pandas._libs.tslib._array_to_datetime_object\n",
      "  File \"pandas\\_libs\\tslibs\\parsing.pyx\", line 318, in pandas._libs.tslibs.parsing.parse_datetime_string\n",
      "  File \"C:\\Users\\ASUS\\AppData\\Roaming\\Python\\Python310\\site-packages\\dateutil\\parser\\_parser.py\", line 1368, in parse\n",
      "    return DEFAULTPARSER.parse(timestr, **kwargs)\n",
      "  File \"C:\\Users\\ASUS\\AppData\\Roaming\\Python\\Python310\\site-packages\\dateutil\\parser\\_parser.py\", line 651, in parse\n",
      "    six.raise_from(ParserError(str(e) + \": %s\", timestr), e)\n",
      "  File \"<string>\", line 3, in raise_from\n",
      "dateutil.parser._parser.ParserError: hour must be in 0..23: 36:30.0 present at position 229886\n",
      "\n",
      "During handling of the above exception, another exception occurred:\n",
      "\n",
      "Traceback (most recent call last):\n",
      "  File \"C:\\Users\\ASUS\\AppData\\Roaming\\Python\\Python310\\site-packages\\IPython\\core\\interactiveshell.py\", line 2057, in showtraceback\n",
      "    stb = self.InteractiveTB.structured_traceback(\n",
      "  File \"C:\\Users\\ASUS\\AppData\\Roaming\\Python\\Python310\\site-packages\\IPython\\core\\ultratb.py\", line 1288, in structured_traceback\n",
      "    return FormattedTB.structured_traceback(\n",
      "  File \"C:\\Users\\ASUS\\AppData\\Roaming\\Python\\Python310\\site-packages\\IPython\\core\\ultratb.py\", line 1177, in structured_traceback\n",
      "    return VerboseTB.structured_traceback(\n",
      "  File \"C:\\Users\\ASUS\\AppData\\Roaming\\Python\\Python310\\site-packages\\IPython\\core\\ultratb.py\", line 1049, in structured_traceback\n",
      "    formatted_exceptions += self.format_exception_as_a_whole(etype, evalue, etb, lines_of_context,\n",
      "  File \"C:\\Users\\ASUS\\AppData\\Roaming\\Python\\Python310\\site-packages\\IPython\\core\\ultratb.py\", line 935, in format_exception_as_a_whole\n",
      "    self.get_records(etb, number_of_lines_of_context, tb_offset) if etb else []\n",
      "  File \"C:\\Users\\ASUS\\AppData\\Roaming\\Python\\Python310\\site-packages\\IPython\\core\\ultratb.py\", line 1003, in get_records\n",
      "    lines, first = inspect.getsourcelines(etb.tb_frame)\n",
      "  File \"C:\\Python310\\lib\\inspect.py\", line 1129, in getsourcelines\n",
      "    lines, lnum = findsource(object)\n",
      "  File \"C:\\Python310\\lib\\inspect.py\", line 958, in findsource\n",
      "    raise OSError('could not get source code')\n",
      "OSError: could not get source code\n"
     ]
    }
   ],
   "source": [
    "df.Start_Time = pd.to_datetime(df.Start_Time)"
   ]
  },
  {
   "cell_type": "code",
   "execution_count": null,
   "metadata": {},
   "outputs": [],
   "source": [
    "df"
   ]
  },
  {
   "cell_type": "code",
   "execution_count": null,
   "metadata": {},
   "outputs": [],
   "source": []
  },
  {
   "cell_type": "code",
   "execution_count": null,
   "metadata": {},
   "outputs": [],
   "source": []
  },
  {
   "cell_type": "code",
   "execution_count": null,
   "metadata": {},
   "outputs": [],
   "source": [
    "##\n"
   ]
  },
  {
   "cell_type": "code",
   "execution_count": null,
   "metadata": {},
   "outputs": [],
   "source": [
    "##\n",
    "Some insights:\n",
    "- No data available for new york(Have the highest population)\n",
    "-No of accidents per city decreases exponentially\n",
    "-Less than 1.4% cities have more than 1000 yearly accidents   \n",
    "-Almost 1200 cities have reported just once accident(worth investigating)\n",
    "-"
   ]
  }
 ],
 "metadata": {
  "kernelspec": {
   "display_name": "Python 3 (ipykernel)",
   "language": "python",
   "name": "python3"
  },
  "language_info": {
   "codemirror_mode": {
    "name": "ipython",
    "version": 3
   },
   "file_extension": ".py",
   "mimetype": "text/x-python",
   "name": "python",
   "nbconvert_exporter": "python",
   "pygments_lexer": "ipython3",
   "version": "3.10.7"
  }
 },
 "nbformat": 4,
 "nbformat_minor": 2
}
